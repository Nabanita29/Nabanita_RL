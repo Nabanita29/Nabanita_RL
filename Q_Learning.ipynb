{
  "nbformat": 4,
  "nbformat_minor": 0,
  "metadata": {
    "colab": {
      "provenance": [],
      "authorship_tag": "ABX9TyMiFDugJgaviKqLbxfO5w25",
      "include_colab_link": true
    },
    "kernelspec": {
      "name": "python3",
      "display_name": "Python 3"
    },
    "language_info": {
      "name": "python"
    }
  },
  "cells": [
    {
      "cell_type": "markdown",
      "metadata": {
        "id": "view-in-github",
        "colab_type": "text"
      },
      "source": [
        "<a href=\"https://colab.research.google.com/github/Nabanita29/Nabanita_RL/blob/main/Q_Learning.ipynb\" target=\"_parent\"><img src=\"https://colab.research.google.com/assets/colab-badge.svg\" alt=\"Open In Colab\"/></a>"
      ]
    },
    {
      "cell_type": "code",
      "execution_count": null,
      "metadata": {
        "colab": {
          "base_uri": "https://localhost:8080/"
        },
        "id": "2VrBIBfi0z08",
        "outputId": "eb702a56-9e12-4d17-de05-4033563e340f"
      },
      "outputs": [
        {
          "output_type": "stream",
          "name": "stdout",
          "text": [
            "Learned Q values:\n",
            "[[  0.    0.    0.    0.   80.    0. ]\n",
            " [  0.    0.    0.   64.    0.  100. ]\n",
            " [  0.    0.    0.   64.    0.    0. ]\n",
            " [  0.   80.   51.2   0.   80.    0. ]\n",
            " [ 64.    0.    0.   64.    0.  100. ]\n",
            " [  0.    0.    0.    0.    0.    0. ]]\n"
          ]
        }
      ],
      "source": [
        "import numpy as np\n",
        "\n",
        "# Set the environment\n",
        "R = np.array([[-1, -1, -1, -1, 0, -1],\n",
        "              [-1, -1, -1, 0, -1, 100],\n",
        "              [-1, -1, -1, 0, -1, -1],\n",
        "              [-1, 0, 0, -1, 0, -1],\n",
        "              [0, -1, -1, 0, -1, 100],\n",
        "              [-1, 0, -1, -1, 0, 100]])\n",
        "\n",
        "# Set the parameters\n",
        "Q = np.zeros_like(R, dtype=np.float32)\n",
        "gamma = 0.8\n",
        "goal_state = 5\n",
        "num_episodes = 1000\n",
        "\n",
        "# Q-learning algorithm\n",
        "for _ in range(num_episodes):\n",
        "    state = np.random.randint(0, 6)  # Random initial state\n",
        "    while state != goal_state:\n",
        "        possible_actions = []\n",
        "        for action in range(6):\n",
        "            if R[state, action] >= 0:\n",
        "                possible_actions.append(action)\n",
        "        next_state = possible_actions[np.random.randint(0, len(possible_actions))]\n",
        "        max_Q_next = np.max(Q[next_state, :])\n",
        "        Q[state, next_state] = R[state, next_state] + gamma * max_Q_next\n",
        "        state = next_state\n",
        "\n",
        "# Print the learned Q values\n",
        "print(\"Learned Q values:\")\n",
        "print(Q)\n"
      ]
    },
    {
      "cell_type": "code",
      "source": [],
      "metadata": {
        "id": "7dHI7sRg05e5"
      },
      "execution_count": null,
      "outputs": []
    }
  ]
}